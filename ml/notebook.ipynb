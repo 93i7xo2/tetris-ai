{
 "cells": [
  {
   "cell_type": "code",
   "execution_count": 5,
   "metadata": {},
   "outputs": [],
   "source": [
    "from neural_network import NeuralNetwork, TestCase\n",
    "import math"
   ]
  },
  {
   "cell_type": "code",
   "execution_count": 6,
   "metadata": {},
   "outputs": [
    {
     "name": "stdout",
     "output_type": "stream",
     "text": [
      "Loaded 60000 training cases and 10000 test cases\n"
     ]
    }
   ],
   "source": [
    "train = TestCase.load(\"data/train.json\")\n",
    "test = TestCase.load(\"data/test.json\")\n",
    "print(f\"Loaded {len(train)} training cases and {len(test)} test cases\")"
   ]
  },
  {
   "cell_type": "code",
   "execution_count": 7,
   "metadata": {},
   "outputs": [],
   "source": [
    "# print(train[0].input.shape)"
   ]
  },
  {
   "cell_type": "code",
   "execution_count": 8,
   "metadata": {},
   "outputs": [
    {
     "name": "stdout",
     "output_type": "stream",
     "text": [
      "Round 0 accuracy: 55.25%\n",
      "Round 1 accuracy: 56.27%\n",
      "Round 2 accuracy: 57.93%\n",
      "Round 3 accuracy: 56.16%\n",
      "Round 4 accuracy: 59.68%\n",
      "Round 5 accuracy: 59.54%\n",
      "Round 6 accuracy: 60.62%\n",
      "Round 7 accuracy: 61.30%\n",
      "Round 8 accuracy: 61.63%\n",
      "Round 9 accuracy: 62.69%\n",
      "Round 10 accuracy: 62.59%\n",
      "Round 11 accuracy: 63.22%\n",
      "Round 12 accuracy: 62.40%\n",
      "Round 13 accuracy: 63.16%\n",
      "Round 14 accuracy: 64.30%\n",
      "Round 15 accuracy: 64.75%\n",
      "Round 16 accuracy: 65.02%\n",
      "Round 17 accuracy: 64.51%\n",
      "Round 18 accuracy: 64.57%\n",
      "Round 19 accuracy: 65.21%\n",
      "Round 20 accuracy: 63.99%\n",
      "Round 21 accuracy: 65.28%\n",
      "Round 22 accuracy: 64.83%\n",
      "Round 23 accuracy: 65.78%\n",
      "Round 24 accuracy: 66.27%\n",
      "Round 25 accuracy: 65.84%\n",
      "Round 26 accuracy: 64.79%\n",
      "Round 27 accuracy: 65.73%\n",
      "Round 28 accuracy: 65.09%\n",
      "Round 29 accuracy: 65.56%\n",
      "Round 30 accuracy: 66.93%\n",
      "Round 31 accuracy: 64.99%\n",
      "Round 32 accuracy: 65.77%\n",
      "Round 33 accuracy: 66.28%\n",
      "Round 34 accuracy: 65.91%\n",
      "Round 35 accuracy: 66.85%\n",
      "Round 36 accuracy: 65.98%\n",
      "Round 37 accuracy: 66.70%\n",
      "Round 38 accuracy: 67.22%\n",
      "Round 39 accuracy: 66.92%\n",
      "Round 40 accuracy: 66.51%\n",
      "Round 41 accuracy: 66.67%\n",
      "Round 42 accuracy: 65.04%\n",
      "Round 43 accuracy: 67.38%\n",
      "Round 44 accuracy: 66.77%\n",
      "Round 45 accuracy: 65.74%\n",
      "Round 46 accuracy: 65.93%\n",
      "Round 47 accuracy: 66.83%\n",
      "Round 48 accuracy: 66.65%\n",
      "Round 49 accuracy: 67.52%\n",
      "Round 50 accuracy: 67.64%\n",
      "Round 51 accuracy: 67.15%\n",
      "Round 52 accuracy: 67.68%\n",
      "Round 53 accuracy: 67.54%\n",
      "Round 54 accuracy: 67.48%\n",
      "Round 55 accuracy: 67.13%\n",
      "Round 56 accuracy: 67.97%\n",
      "Round 57 accuracy: 66.82%\n",
      "Round 58 accuracy: 66.78%\n",
      "Round 59 accuracy: 68.01%\n",
      "Round 60 accuracy: 67.56%\n",
      "Round 61 accuracy: 67.41%\n",
      "Round 62 accuracy: 67.56%\n",
      "Round 63 accuracy: 67.86%\n",
      "Round 64 accuracy: 67.77%\n",
      "Round 65 accuracy: 67.93%\n",
      "Round 66 accuracy: 67.55%\n",
      "Round 67 accuracy: 67.39%\n",
      "Round 68 accuracy: 68.11%\n",
      "Round 69 accuracy: 67.78%\n",
      "Round 70 accuracy: 66.93%\n",
      "Round 71 accuracy: 68.03%\n",
      "Round 72 accuracy: 67.20%\n",
      "Round 73 accuracy: 67.45%\n",
      "Round 74 accuracy: 67.47%\n",
      "Round 75 accuracy: 67.24%\n",
      "Round 76 accuracy: 67.86%\n",
      "Round 77 accuracy: 67.91%\n",
      "Round 78 accuracy: 67.67%\n",
      "Round 79 accuracy: 68.07%\n",
      "Round 80 accuracy: 68.22%\n",
      "Round 81 accuracy: 67.77%\n",
      "Round 82 accuracy: 68.36%\n",
      "Round 83 accuracy: 68.44%\n",
      "Round 84 accuracy: 67.41%\n",
      "Round 85 accuracy: 68.41%\n",
      "Round 86 accuracy: 68.35%\n",
      "Round 87 accuracy: 68.41%\n",
      "Round 88 accuracy: 68.33%\n",
      "Round 89 accuracy: 67.71%\n",
      "Round 90 accuracy: 68.30%\n",
      "Round 91 accuracy: 68.67%\n",
      "Round 92 accuracy: 67.63%\n",
      "Round 93 accuracy: 68.57%\n",
      "Round 94 accuracy: 68.34%\n",
      "Round 95 accuracy: 67.85%\n",
      "Round 96 accuracy: 67.95%\n",
      "Round 97 accuracy: 67.70%\n",
      "Round 98 accuracy: 68.14%\n",
      "Round 99 accuracy: 68.31%\n"
     ]
    }
   ],
   "source": [
    "# Train the neural network\n",
    "def get_accuracy(network, test):\n",
    "    correct = 0\n",
    "    for case in test:\n",
    "        result = network.run(case.input)\n",
    "        if round(case.expected[0][0]) == round(result[0][0]):\n",
    "            correct += 1\n",
    "    return correct / len(test)\n",
    "\n",
    "\n",
    "# network = NeuralNetwork([560, 200, 200, 10, 10])\n",
    "network = NeuralNetwork([240, 16, 16, 1])\n",
    "\n",
    "for i in range(100):\n",
    "    network.train(train, i)\n",
    "    accuracy = get_accuracy(network, test) * 100\n",
    "    print(f\"Round {i} accuracy: {accuracy:0.2f}%\")\n",
    "    network.save(\"model/model.json\")\n"
   ]
  }
 ],
 "metadata": {
  "interpreter": {
   "hash": "b0fa6594d8f4cbf19f97940f81e996739fb7646882a419484c72d19e05852a7e"
  },
  "kernelspec": {
   "display_name": "Python 3.10.0 64-bit",
   "name": "python3"
  },
  "language_info": {
   "codemirror_mode": {
    "name": "ipython",
    "version": 3
   },
   "file_extension": ".py",
   "mimetype": "text/x-python",
   "name": "python",
   "nbconvert_exporter": "python",
   "pygments_lexer": "ipython3",
   "version": "3.10.0"
  },
  "orig_nbformat": 4
 },
 "nbformat": 4,
 "nbformat_minor": 2
}
