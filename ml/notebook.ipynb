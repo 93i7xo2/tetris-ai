{
 "cells": [
  {
   "cell_type": "code",
   "execution_count": 1,
   "source": [
    "from neural_network import NeuralNetwork, TestCase\n",
    "import math"
   ],
   "outputs": [],
   "metadata": {}
  },
  {
   "cell_type": "code",
   "execution_count": 2,
   "source": [
    "train = TestCase.load(\"data/train.json\")\n",
    "test = TestCase.load(\"data/test.json\")\n",
    "print(f\"Loaded {len(train)} training cases and {len(test)} test cases\")"
   ],
   "outputs": [
    {
     "output_type": "stream",
     "name": "stdout",
     "text": [
      "Loaded 60000 training cases and 10000 test cases\n"
     ]
    }
   ],
   "metadata": {}
  },
  {
   "cell_type": "code",
   "execution_count": 3,
   "source": [
    "# print(train[0].input.shape)"
   ],
   "outputs": [],
   "metadata": {}
  },
  {
   "cell_type": "code",
   "execution_count": 5,
   "source": [
    "# Train the neural network\n",
    "def get_accuracy(network, test):\n",
    "    correct = 0\n",
    "    for case in test:\n",
    "        result = network.run(case.input)\n",
    "        if round(case.expected[0][0]) == round(result[0][0]):\n",
    "            correct += 1\n",
    "    return correct / len(test)\n",
    "\n",
    "\n",
    "# network = NeuralNetwork([560, 200, 200, 10, 10])\n",
    "network = NeuralNetwork([240, 100, 10, 20, 1])\n",
    "\n",
    "for i in range(100):\n",
    "    network.train(train, i)\n",
    "    accuracy = get_accuracy(network, test) * 100\n",
    "    print(f\"Round {i} accuracy: {accuracy:0.2f}%\")\n"
   ],
   "outputs": [
    {
     "output_type": "stream",
     "name": "stdout",
     "text": [
      "Round 0 accuracy: 53.39%\n",
      "Round 1 accuracy: 55.97%\n",
      "Round 2 accuracy: 58.25%\n",
      "Round 3 accuracy: 59.33%\n",
      "Round 4 accuracy: 61.39%\n",
      "Round 5 accuracy: 63.09%\n",
      "Round 6 accuracy: 63.53%\n",
      "Round 7 accuracy: 64.33%\n",
      "Round 8 accuracy: 63.34%\n",
      "Round 9 accuracy: 65.42%\n",
      "Round 10 accuracy: 65.18%\n",
      "Round 11 accuracy: 64.11%\n",
      "Round 12 accuracy: 66.04%\n",
      "Round 13 accuracy: 64.85%\n",
      "Round 14 accuracy: 65.33%\n",
      "Round 15 accuracy: 67.49%\n",
      "Round 16 accuracy: 67.43%\n",
      "Round 17 accuracy: 67.37%\n",
      "Round 18 accuracy: 67.49%\n",
      "Round 19 accuracy: 68.47%\n",
      "Round 20 accuracy: 66.21%\n",
      "Round 21 accuracy: 66.46%\n",
      "Round 22 accuracy: 66.19%\n",
      "Round 23 accuracy: 68.88%\n",
      "Round 24 accuracy: 68.84%\n",
      "Round 25 accuracy: 66.73%\n",
      "Round 26 accuracy: 67.16%\n",
      "Round 27 accuracy: 66.98%\n",
      "Round 28 accuracy: 68.86%\n",
      "Round 29 accuracy: 64.77%\n",
      "Round 30 accuracy: 68.82%\n",
      "Round 31 accuracy: 69.55%\n",
      "Round 32 accuracy: 69.65%\n",
      "Round 33 accuracy: 69.01%\n",
      "Round 34 accuracy: 69.24%\n",
      "Round 35 accuracy: 68.34%\n",
      "Round 36 accuracy: 68.94%\n",
      "Round 37 accuracy: 69.70%\n",
      "Round 38 accuracy: 69.97%\n",
      "Round 39 accuracy: 69.26%\n",
      "Round 40 accuracy: 70.52%\n",
      "Round 41 accuracy: 69.41%\n",
      "Round 42 accuracy: 69.55%\n",
      "Round 43 accuracy: 70.15%\n",
      "Round 44 accuracy: 69.51%\n",
      "Round 45 accuracy: 69.37%\n",
      "Round 46 accuracy: 70.89%\n",
      "Round 47 accuracy: 71.27%\n",
      "Round 48 accuracy: 68.33%\n",
      "Round 49 accuracy: 70.17%\n",
      "Round 50 accuracy: 70.93%\n",
      "Round 51 accuracy: 70.01%\n",
      "Round 52 accuracy: 70.86%\n",
      "Round 53 accuracy: 70.53%\n",
      "Round 54 accuracy: 70.63%\n",
      "Round 55 accuracy: 70.74%\n",
      "Round 56 accuracy: 70.68%\n",
      "Round 57 accuracy: 70.43%\n",
      "Round 58 accuracy: 69.10%\n",
      "Round 59 accuracy: 70.62%\n",
      "Round 60 accuracy: 70.32%\n",
      "Round 61 accuracy: 69.98%\n",
      "Round 62 accuracy: 70.78%\n",
      "Round 63 accuracy: 70.74%\n",
      "Round 64 accuracy: 70.15%\n",
      "Round 65 accuracy: 70.21%\n",
      "Round 66 accuracy: 70.47%\n",
      "Round 67 accuracy: 69.27%\n",
      "Round 68 accuracy: 70.01%\n",
      "Round 69 accuracy: 68.69%\n",
      "Round 70 accuracy: 69.67%\n",
      "Round 71 accuracy: 69.76%\n",
      "Round 72 accuracy: 69.63%\n",
      "Round 73 accuracy: 71.00%\n",
      "Round 74 accuracy: 70.49%\n",
      "Round 75 accuracy: 70.31%\n",
      "Round 76 accuracy: 70.87%\n",
      "Round 77 accuracy: 69.92%\n",
      "Round 78 accuracy: 69.71%\n",
      "Round 79 accuracy: 71.09%\n",
      "Round 80 accuracy: 70.85%\n",
      "Round 81 accuracy: 70.03%\n",
      "Round 82 accuracy: 70.77%\n",
      "Round 83 accuracy: 69.45%\n",
      "Round 84 accuracy: 70.16%\n",
      "Round 85 accuracy: 69.06%\n",
      "Round 86 accuracy: 71.00%\n",
      "Round 87 accuracy: 70.59%\n",
      "Round 88 accuracy: 69.84%\n",
      "Round 89 accuracy: 71.23%\n",
      "Round 90 accuracy: 70.71%\n",
      "Round 91 accuracy: 69.95%\n",
      "Round 92 accuracy: 70.37%\n"
     ]
    }
   ],
   "metadata": {}
  }
 ],
 "metadata": {
  "orig_nbformat": 4,
  "language_info": {
   "name": "python",
   "version": "3.9.6",
   "mimetype": "text/x-python",
   "codemirror_mode": {
    "name": "ipython",
    "version": 3
   },
   "pygments_lexer": "ipython3",
   "nbconvert_exporter": "python",
   "file_extension": ".py"
  },
  "kernelspec": {
   "name": "python3",
   "display_name": "Python 3.9.6 64-bit"
  },
  "interpreter": {
   "hash": "b0fa6594d8f4cbf19f97940f81e996739fb7646882a419484c72d19e05852a7e"
  }
 },
 "nbformat": 4,
 "nbformat_minor": 2
}